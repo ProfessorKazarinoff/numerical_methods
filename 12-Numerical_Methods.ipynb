{
 "cells": [
  {
   "cell_type": "markdown",
   "metadata": {},
   "source": [
    "# Numerical Methods\n",
    "\n",
    "Outline:\n",
    "\n",
    " * interpolation\n",
    "  * 1d\n",
    "  * array\n",
    "  * scipy to create interpate function\n",
    "  * Example: T vs. R for a thermister\n",
    "  * Example: hardness conversion\n",
    " * curve fitting\n",
    "  * linear\n",
    "  * polynomial\n",
    " * Integration\n",
    "  * rectangle method with for loop\n",
    "  * trapazoid method with for loop\n",
    "  * scipy integrate function\n",
    " * Differentiation\n",
    "  * ODE's"
   ]
  },
  {
   "cell_type": "markdown",
   "metadata": {},
   "source": [
    "## Interpolation"
   ]
  },
  {
   "cell_type": "markdown",
   "metadata": {},
   "source": [
    "Interpolation is the process of estimating a value in between two known points. Interpolation is useful when you have a set of measured or know data points and want to find the value of a data point in between the points."
   ]
  },
  {
   "cell_type": "markdown",
   "metadata": {},
   "source": [
    "## Curve Fitting"
   ]
  },
  {
   "cell_type": "markdown",
   "metadata": {},
   "source": [
    "Curve fitting is the mathmetical process of creating a function that estimates a set of data"
   ]
  },
  {
   "cell_type": "markdown",
   "metadata": {},
   "source": [
    "## Install NumPY"
   ]
  },
  {
   "cell_type": "markdown",
   "metadata": {},
   "source": [
    "Interpolation can be occomplished with NumPy. To install NumPy, you can use the Anaconda Distribution of Python, conda or pip\n",
    "\n",
    "```\n",
    "conda install numpy\n",
    "```\n",
    "\n",
    "or\n",
    "\n",
    "```\n",
    "pip install numpy\n",
    "```\n",
    "\n",
    "or in a Jupyter notebook code cell\n",
    "\n",
    "```\n",
    "!pip install -u NumPy\n",
    "```"
   ]
  },
  {
   "cell_type": "markdown",
   "metadata": {},
   "source": [
    "## Simple interpolation"
   ]
  },
  {
   "cell_type": "code",
   "execution_count": 1,
   "metadata": {},
   "outputs": [],
   "source": [
    "import numpy as np"
   ]
  },
  {
   "cell_type": "code",
   "execution_count": 2,
   "metadata": {},
   "outputs": [
    {
     "data": {
      "text/plain": [
       "25.0"
      ]
     },
     "execution_count": 2,
     "metadata": {},
     "output_type": "execute_result"
    }
   ],
   "source": [
    "x = [0,2,4]\n",
    "y = [10,20,30]\n",
    "np.interp(3,x,y)"
   ]
  },
  {
   "cell_type": "markdown",
   "metadata": {},
   "source": [
    "## Multi-point interpolation"
   ]
  },
  {
   "cell_type": "code",
   "execution_count": 3,
   "metadata": {},
   "outputs": [
    {
     "data": {
      "text/plain": [
       "array([15., 25.])"
      ]
     },
     "execution_count": 3,
     "metadata": {},
     "output_type": "execute_result"
    }
   ],
   "source": [
    "x = [0,2,4]\n",
    "y = [10,20,30]\n",
    "np.interp([1,3],x,y)"
   ]
  },
  {
   "cell_type": "markdown",
   "metadata": {},
   "source": [
    "## Worked Example"
   ]
  },
  {
   "attachments": {},
   "cell_type": "markdown",
   "metadata": {},
   "source": [
    "A thermister is a type of resistor that changes resistance based on temperature. Below is a table of thermister resistor measurements and the associated temperature at that resistance."
   ]
  },
  {
   "cell_type": "code",
   "execution_count": 4,
   "metadata": {},
   "outputs": [
    {
     "name": "stdout",
     "output_type": "stream",
     "text": [
      " Volume in drive C is Windows\n",
      " Volume Serial Number is A048-4C53\n",
      "\n",
      " Directory of C:\\Users\\peter.kazarinoff\\Documents\\python_scripts\n",
      "\n",
      "12/12/2019  08:42 AM    <DIR>          .\n",
      "12/12/2019  08:42 AM    <DIR>          ..\n",
      "06/22/2017  10:18 AM    <DIR>          .idea\n",
      "12/12/2019  07:54 AM    <DIR>          .ipynb_checkpoints\n",
      "12/12/2019  08:42 AM            28,656 12-Numerical_Methods.ipynb\n",
      "03/04/2019  08:32 AM             7,675 Blessings_HW.ipynb\n",
      "01/24/2018  03:28 PM    <DIR>          bridge\n",
      "06/20/2019  11:25 AM    <DIR>          CMET_EET_Employment\n",
      "12/10/2019  12:48 PM             2,859 CMET113_Exam3_2019Q4.ipynb\n",
      "04/17/2019  02:05 PM            28,874 datetimes_in_pandas.ipynb\n",
      "11/15/2019  10:15 AM             2,662 email.csv\n",
      "06/22/2017  10:18 AM    <DIR>          ENGR_Advising\n",
      "12/11/2018  11:12 AM             1,709 ENGR101_Exam2_Fall_2018_Unit_Conversion_Section.ipynb\n",
      "09/04/2018  11:54 AM             5,638 ENGR101_Exam2_Summer2018_Answer_Key.ipynb\n",
      "09/04/2018  11:11 AM             5,422 ENGR101_Sample_Exam_2_Multiple_Choice_2.ipynb\n",
      "04/27/2018  11:30 AM             1,321 ENGR231_Exam1_Spring2018.ipynb\n",
      "11/08/2018  04:56 PM             4,058 ENGR231_Problem6.11.ipynb\n",
      "01/24/2018  03:02 PM             1,024 ENGR262_CTE_Quiz.ipynb\n",
      "11/04/2019  08:39 AM            37,382 Exam1_grades.png\n",
      "04/17/2019  02:11 PM             5,697 Exam2_ENGR101_Fall2018_Unit_Conversion_Problems.ipynb\n",
      "11/15/2019  10:32 AM             9,445 extract_emails.ipynb\n",
      "05/03/2018  06:47 AM    <DIR>          gfm\n",
      "11/04/2019  08:22 AM               102 grades_exam1.csv\n",
      "11/04/2019  08:39 AM            14,544 Grades_Exam1_histogram.ipynb\n",
      "05/06/2016  09:27 AM         1,463,346 IMG_0619.JPG\n",
      "10/01/2018  11:27 AM             3,697 import_staticstics.ipynb\n",
      "09/21/2018  08:42 AM             3,912 int_calculations.ipynb\n",
      "10/01/2019  08:14 AM               923 List_and_Tuple_Check.ipynb\n",
      "09/30/2019  03:29 PM             1,283 log_scratchwork.ipynb\n",
      "06/13/2019  05:02 PM    <DIR>          mathematics_for_neuroscientists_python\n",
      "12/14/2017  08:01 AM         1,464,741 Matplotlib Notes.pdf\n",
      "05/21/2018  02:36 PM    <DIR>          matplotlib_scripts\n",
      "01/22/2018  09:41 AM    <DIR>          opencv_scripts\n",
      "06/04/2019  11:46 AM    <DIR>          out\n",
      "09/11/2019  01:12 PM           748,713 out.tex\n",
      "09/11/2019  01:52 PM             1,140 out_test.tex\n",
      "09/11/2019  01:59 PM             1,212 out_test_return\n",
      "09/11/2019  02:26 PM           749,123 out_test_return.tex\n",
      "12/14/2017  08:00 AM           885,088 Pandas DataFrame Notes.pdf\n",
      "01/29/2019  08:45 AM            27,646 pandas_read_tide_table_data.ipynb\n",
      "10/10/2019  08:09 AM    <DIR>          pdf\n",
      "05/15/2019  07:02 AM               923 plastic_shrinkage_calculation.ipynb\n",
      "12/14/2017  08:00 AM           476,840 Python Notes.pdf\n",
      "09/11/2019  02:27 PM            11,626 regex_testing.ipynb\n",
      "12/11/2018  08:35 AM                36 script.py\n",
      "09/19/2017  01:14 PM             1,795 simpel_web_read.ipynb\n",
      "06/11/2019  11:02 AM            13,434 stack_overflow_dev_survey_with_pandas.ipynb\n",
      "06/11/2019  10:44 AM       196,592,730 survey_results_public.csv\n",
      "09/10/2019  03:50 PM             1,146 test.tex\n",
      "09/10/2019  04:01 PM             1,101 test_out.tex\n",
      "01/29/2019  08:44 AM             9,836 tide_data.csv\n",
      "10/30/2018  03:08 PM             5,551 tide_data_cleaned.csv\n",
      "12/12/2019  08:09 AM             1,034 TinC_vs_RinOhms.csv\n",
      "11/08/2018  04:32 PM             1,795 untitled.dio\n",
      "09/30/2019  03:23 PM                72 Untitled.ipynb\n",
      "10/29/2019  07:05 AM             1,002 Untitled1.ipynb\n",
      "09/10/2018  10:36 AM             2,589 Vector_Class_Definition.ipynb\n",
      "06/05/2019  12:10 PM            15,503 working_with_pathlib.ipynb\n",
      "              45 File(s)    202,644,905 bytes\n",
      "              13 Dir(s)  131,968,245,760 bytes free\n"
     ]
    }
   ],
   "source": [
    "%ls"
   ]
  },
  {
   "cell_type": "code",
   "execution_count": 5,
   "metadata": {},
   "outputs": [],
   "source": [
    "import pandas as pd"
   ]
  },
  {
   "cell_type": "code",
   "execution_count": 6,
   "metadata": {},
   "outputs": [
    {
     "data": {
      "text/html": [
       "<div>\n",
       "<style scoped>\n",
       "    .dataframe tbody tr th:only-of-type {\n",
       "        vertical-align: middle;\n",
       "    }\n",
       "\n",
       "    .dataframe tbody tr th {\n",
       "        vertical-align: top;\n",
       "    }\n",
       "\n",
       "    .dataframe thead th {\n",
       "        text-align: right;\n",
       "    }\n",
       "</style>\n",
       "<table border=\"1\" class=\"dataframe\">\n",
       "  <thead>\n",
       "    <tr style=\"text-align: right;\">\n",
       "      <th></th>\n",
       "      <th>R (Ohm)</th>\n",
       "      <th>T (*C)</th>\n",
       "    </tr>\n",
       "  </thead>\n",
       "  <tbody>\n",
       "    <tr>\n",
       "      <td>0</td>\n",
       "      <td>351200.0</td>\n",
       "      <td>0</td>\n",
       "    </tr>\n",
       "    <tr>\n",
       "      <td>1</td>\n",
       "      <td>332640.0</td>\n",
       "      <td>1</td>\n",
       "    </tr>\n",
       "    <tr>\n",
       "      <td>2</td>\n",
       "      <td>315320.0</td>\n",
       "      <td>2</td>\n",
       "    </tr>\n",
       "    <tr>\n",
       "      <td>3</td>\n",
       "      <td>298990.0</td>\n",
       "      <td>3</td>\n",
       "    </tr>\n",
       "    <tr>\n",
       "      <td>4</td>\n",
       "      <td>283600.0</td>\n",
       "      <td>4</td>\n",
       "    </tr>\n",
       "  </tbody>\n",
       "</table>\n",
       "</div>"
      ],
      "text/plain": [
       "    R (Ohm)  T (*C)\n",
       "0  351200.0       0\n",
       "1  332640.0       1\n",
       "2  315320.0       2\n",
       "3  298990.0       3\n",
       "4  283600.0       4"
      ]
     },
     "execution_count": 6,
     "metadata": {},
     "output_type": "execute_result"
    }
   ],
   "source": [
    "df = pd.read_csv('TinC_vs_RinOhms.csv')\n",
    "df.head()"
   ]
  },
  {
   "cell_type": "code",
   "execution_count": 7,
   "metadata": {},
   "outputs": [
    {
     "data": {
      "text/plain": [
       "array([[3.5120e+05, 0.0000e+00],\n",
       "       [3.3264e+05, 1.0000e+00],\n",
       "       [3.1532e+05, 2.0000e+00],\n",
       "       [2.9899e+05, 3.0000e+00],\n",
       "       [2.8360e+05, 4.0000e+00],\n",
       "       [2.6980e+05, 5.0000e+00],\n",
       "       [2.5538e+05, 6.0000e+00],\n",
       "       [2.4246e+05, 7.0000e+00],\n",
       "       [2.3026e+05, 8.0000e+00],\n",
       "       [2.1873e+05, 9.0000e+00],\n",
       "       [2.0785e+05, 1.0000e+01],\n",
       "       [1.9756e+05, 1.1000e+01],\n",
       "       [1.8784e+05, 1.2000e+01],\n",
       "       [1.7865e+05, 1.3000e+01],\n",
       "       [1.6995e+05, 1.4000e+01],\n",
       "       [1.6173e+05, 1.5000e+01],\n",
       "       [1.5395e+05, 1.6000e+01],\n",
       "       [1.4658e+05, 1.7000e+01],\n",
       "       [1.3961e+05, 1.8000e+01],\n",
       "       [1.3000e+05, 1.9000e+01],\n",
       "       [1.2674e+05, 2.0000e+01],\n",
       "       [1.2081e+05, 2.1000e+01],\n",
       "       [1.1519e+05, 2.2000e+01],\n",
       "       [1.0985e+05, 2.3000e+01],\n",
       "       [1.0480e+05, 2.4000e+01],\n",
       "       [1.0000e+05, 2.5000e+01],\n",
       "       [9.5447e+04, 2.6000e+01],\n",
       "       [9.1126e+04, 2.7000e+01],\n",
       "       [8.7200e+04, 2.8000e+01],\n",
       "       [8.3124e+04, 2.9000e+01],\n",
       "       [7.9422e+04, 3.0000e+01],\n",
       "       [7.5903e+04, 3.1000e+01],\n",
       "       [7.2560e+04, 3.2000e+01],\n",
       "       [6.9380e+04, 3.3000e+01],\n",
       "       [6.6356e+04, 3.4000e+01],\n",
       "       [6.3480e+04, 3.5000e+01],\n",
       "       [6.0743e+04, 3.6000e+01],\n",
       "       [5.8138e+04, 3.7000e+01],\n",
       "       [5.5658e+04, 3.8000e+01],\n",
       "       [5.3297e+04, 3.9000e+01],\n",
       "       [5.1480e+04, 4.0000e+01],\n",
       "       [4.8905e+04, 4.1000e+01],\n",
       "       [4.6863e+04, 4.2000e+01],\n",
       "       [4.4917e+04, 4.3000e+01],\n",
       "       [4.3620e+04, 4.4000e+01],\n",
       "       [4.1292e+04, 4.5000e+01],\n",
       "       [3.9605e+04, 4.6000e+01],\n",
       "       [3.7995e+04, 4.7000e+01],\n",
       "       [3.6458e+04, 4.8000e+01],\n",
       "       [3.4991e+04, 4.9000e+01],\n",
       "       [3.3591e+04, 5.0000e+01],\n",
       "       [3.2253e+04, 5.1000e+01],\n",
       "       [3.0976e+04, 5.2000e+01],\n",
       "       [2.9756e+04, 5.3000e+01],\n",
       "       [2.8590e+04, 5.4000e+01],\n",
       "       [2.7475e+04, 5.5000e+01],\n",
       "       [2.6409e+04, 5.6000e+01],\n",
       "       [2.5390e+04, 5.7000e+01],\n",
       "       [2.4415e+04, 5.8000e+01],\n",
       "       [2.3483e+04, 5.9000e+01],\n",
       "       [2.2590e+04, 6.0000e+01],\n",
       "       [2.1736e+04, 6.1000e+01],\n",
       "       [2.0919e+04, 6.2000e+01],\n",
       "       [2.0136e+04, 6.3000e+01],\n",
       "       [1.9386e+04, 6.4000e+01],\n",
       "       [1.8668e+04, 6.5000e+01],\n",
       "       [1.7980e+04, 6.6000e+01],\n",
       "       [1.7321e+04, 6.7000e+01],\n",
       "       [1.6689e+04, 6.8000e+01],\n",
       "       [1.6830e+04, 6.9000e+01],\n",
       "       [1.5502e+04, 7.0000e+01],\n",
       "       [1.4945e+04, 7.1000e+01],\n",
       "       [1.4410e+04, 7.2000e+01],\n",
       "       [1.3897e+04, 7.3000e+01],\n",
       "       [1.3405e+04, 7.4000e+01],\n",
       "       [1.2932e+04, 7.5000e+01],\n",
       "       [1.2479e+04, 7.6000e+01],\n",
       "       [1.2430e+04, 7.7000e+01],\n",
       "       [1.1625e+04, 7.8000e+01],\n",
       "       [1.1223e+04, 7.9000e+01],\n",
       "       [1.0837e+04, 8.0000e+01],\n",
       "       [1.0467e+04, 8.1000e+01],\n",
       "       [1.0110e+04, 8.2000e+01],\n",
       "       [9.7672e+03, 8.3000e+01],\n",
       "       [9.4377e+03, 8.4000e+01],\n",
       "       [9.1208e+03, 8.5000e+01],\n",
       "       [8.8160e+03, 8.6000e+01],\n",
       "       [8.5227e+03, 8.7000e+01],\n",
       "       [8.2406e+03, 8.8000e+01],\n",
       "       [7.9691e+03, 8.9000e+01],\n",
       "       [7.7077e+03, 9.0000e+01],\n",
       "       [7.4562e+03, 9.1000e+01],\n",
       "       [7.2140e+03, 9.2000e+01],\n",
       "       [6.9806e+03, 9.3000e+01],\n",
       "       [6.7559e+03, 9.4000e+01],\n",
       "       [6.5394e+03, 9.5000e+01],\n",
       "       [6.3308e+03, 9.6000e+01],\n",
       "       [6.1298e+03, 9.7000e+01],\n",
       "       [5.9361e+03, 9.8000e+01]])"
      ]
     },
     "execution_count": 7,
     "metadata": {},
     "output_type": "execute_result"
    }
   ],
   "source": [
    "a = np.array(df)\n",
    "a"
   ]
  },
  {
   "cell_type": "code",
   "execution_count": 8,
   "metadata": {},
   "outputs": [
    {
     "data": {
      "text/plain": [
       "98.0"
      ]
     },
     "execution_count": 8,
     "metadata": {},
     "output_type": "execute_result"
    }
   ],
   "source": [
    "# interpolate a measured resistance\n",
    "\n",
    "np.interp(178650,a[:,0],a[:,1])"
   ]
  },
  {
   "cell_type": "code",
   "execution_count": 9,
   "metadata": {},
   "outputs": [
    {
     "data": {
      "text/plain": [
       "array([351200. , 332640. , 315320. , 298990. , 283600. , 269800. ,\n",
       "       255380. , 242460. , 230260. , 218730. , 207850. , 197560. ,\n",
       "       187840. , 178650. , 169950. , 161730. , 153950. , 146580. ,\n",
       "       139610. , 130000. , 126740. , 120810. , 115190. , 109850. ,\n",
       "       104800. , 100000. ,  95447. ,  91126. ,  87200. ,  83124. ,\n",
       "        79422. ,  75903. ,  72560. ,  69380. ,  66356. ,  63480. ,\n",
       "        60743. ,  58138. ,  55658. ,  53297. ,  51480. ,  48905. ,\n",
       "        46863. ,  44917. ,  43620. ,  41292. ,  39605. ,  37995. ,\n",
       "        36458. ,  34991. ,  33591. ,  32253. ,  30976. ,  29756. ,\n",
       "        28590. ,  27475. ,  26409. ,  25390. ,  24415. ,  23483. ,\n",
       "        22590. ,  21736. ,  20919. ,  20136. ,  19386. ,  18668. ,\n",
       "        17980. ,  17321. ,  16689. ,  16830. ,  15502. ,  14945. ,\n",
       "        14410. ,  13897. ,  13405. ,  12932. ,  12479. ,  12430. ,\n",
       "        11625. ,  11223. ,  10837. ,  10467. ,  10110. ,   9767.2,\n",
       "         9437.7,   9120.8,   8816. ,   8522.7,   8240.6,   7969.1,\n",
       "         7707.7,   7456.2,   7214. ,   6980.6,   6755.9,   6539.4,\n",
       "         6330.8,   6129.8,   5936.1])"
      ]
     },
     "execution_count": 9,
     "metadata": {},
     "output_type": "execute_result"
    }
   ],
   "source": [
    "a[:,0]"
   ]
  },
  {
   "cell_type": "code",
   "execution_count": 10,
   "metadata": {},
   "outputs": [
    {
     "data": {
      "text/plain": [
       "array([ 0.,  1.,  2.,  3.,  4.,  5.,  6.,  7.,  8.,  9., 10., 11., 12.,\n",
       "       13., 14., 15., 16., 17., 18., 19., 20., 21., 22., 23., 24., 25.,\n",
       "       26., 27., 28., 29., 30., 31., 32., 33., 34., 35., 36., 37., 38.,\n",
       "       39., 40., 41., 42., 43., 44., 45., 46., 47., 48., 49., 50., 51.,\n",
       "       52., 53., 54., 55., 56., 57., 58., 59., 60., 61., 62., 63., 64.,\n",
       "       65., 66., 67., 68., 69., 70., 71., 72., 73., 74., 75., 76., 77.,\n",
       "       78., 79., 80., 81., 82., 83., 84., 85., 86., 87., 88., 89., 90.,\n",
       "       91., 92., 93., 94., 95., 96., 97., 98.])"
      ]
     },
     "execution_count": 10,
     "metadata": {},
     "output_type": "execute_result"
    }
   ],
   "source": [
    "a[:,1]"
   ]
  },
  {
   "cell_type": "markdown",
   "metadata": {},
   "source": [
    "## SciPy's interpolate functions\n",
    "\n",
    "SciPy's ```interpolate``` package contains functions for interpolation.\n",
    "\n",
    "These functions output functions. Then the functions created by SciPy's interpolation can be used to find data at unknown points. This is different from NumPy's interpolation functions that output the points directly. This means SciPy's interpoltion requires two steps\n",
    "\n",
    " * create interpolation function ```f = interpolate(x,y)```\n",
    " * call interpolate function ```ynew = f(xnew)```"
   ]
  },
  {
   "cell_type": "code",
   "execution_count": 11,
   "metadata": {},
   "outputs": [],
   "source": [
    "from scipy import interpolate\n",
    "import matplotlib.pyplot as plt\n",
    "%matplotlib inline"
   ]
  },
  {
   "cell_type": "code",
   "execution_count": 12,
   "metadata": {},
   "outputs": [],
   "source": [
    "x = a[:,0]\n",
    "y = a[:,1]\n",
    "f = interpolate.interp1d(x,y) # make an interpolate function"
   ]
  },
  {
   "cell_type": "code",
   "execution_count": 13,
   "metadata": {},
   "outputs": [
    {
     "data": {
      "text/plain": [
       "array(87.00248139)"
      ]
     },
     "execution_count": 13,
     "metadata": {},
     "output_type": "execute_result"
    }
   ],
   "source": [
    "#call the interpolate function\n",
    "f(8522)"
   ]
  },
  {
   "cell_type": "code",
   "execution_count": 14,
   "metadata": {},
   "outputs": [],
   "source": [
    "xnew=[10500,16800,6500]\n",
    "ynew=f(xnew)"
   ]
  },
  {
   "cell_type": "code",
   "execution_count": 15,
   "metadata": {},
   "outputs": [
    {
     "data": {
      "image/png": "[encoded data removed]",
      "text/plain": [
       "<Figure size 432x288 with 1 Axes>"
      ]
     },
     "metadata": {
      "needs_background": "light"
     },
     "output_type": "display_data"
    }
   ],
   "source": [
    "fig, ax = plt.subplots()\n",
    "ax.plot(x,y,'o',alpha=0.1)\n",
    "ax.plot(xnew,ynew,'x',color='red')\n",
    "plt.xlim([18000, 6000])\n",
    "plt.show()"
   ]
  },
  {
   "cell_type": "markdown",
   "metadata": {},
   "source": [
    "[https://docs.scipy.org/doc/scipy/reference/interpolate.html](https://docs.scipy.org/doc/scipy/reference/interpolate.html)"
   ]
  },
  {
   "cell_type": "markdown",
   "metadata": {},
   "source": [
    "```\n",
    "scipy.interpolate.interp1d\n",
    "\n",
    "scipy.interpolate.interp2d\n",
    "\n",
    "scipy.interpolate.pchip_interpolate\n",
    "\n",
    "scipy.interpolate.interpn(x,y,xi,method='linear') also method ='nearest','splinef2d'(only for 2d data)\n",
    "```\n"
   ]
  },
  {
   "cell_type": "code",
   "execution_count": null,
   "metadata": {},
   "outputs": [],
   "source": []
  }
 ],
 "metadata": {
  "kernelspec": {
   "display_name": "Python 3",
   "language": "python",
   "name": "python3"
  },
  "language_info": {
   "codemirror_mode": {
    "name": "ipython",
    "version": 3
   },
   "file_extension": ".py",
   "mimetype": "text/x-python",
   "name": "python",
   "nbconvert_exporter": "python",
   "pygments_lexer": "ipython3",
   "version": "3.7.4"
  }
 },
 "nbformat": 4,
 "nbformat_minor": 2
}
